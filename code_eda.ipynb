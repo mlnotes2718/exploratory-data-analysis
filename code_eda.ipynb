{
 "cells": [
  {
   "cell_type": "markdown",
   "id": "10dcb2e2",
   "metadata": {},
   "source": [
    "# Code Test\n"
   ]
  },
  {
   "cell_type": "code",
   "execution_count": 1,
   "id": "32f5b87b",
   "metadata": {},
   "outputs": [],
   "source": [
    "import pandas as pd\n",
    "import numpy as np\n",
    "import matplotlib.pyplot as plt\n",
    "import seaborn as sns"
   ]
  },
  {
   "cell_type": "code",
   "execution_count": 2,
   "id": "ebafe91f",
   "metadata": {},
   "outputs": [],
   "source": [
    "from src_eda.eda import data_quality"
   ]
  },
  {
   "cell_type": "code",
   "execution_count": 3,
   "id": "da417838",
   "metadata": {},
   "outputs": [],
   "source": [
    "df = pd.read_csv('data/regression_bonus_practice_data.csv')"
   ]
  },
  {
   "cell_type": "code",
   "execution_count": 4,
   "id": "5f099b62",
   "metadata": {},
   "outputs": [
    {
     "name": "stdout",
     "output_type": "stream",
     "text": [
      "Data Quality Report:\n",
      "Total rows: 15900\n",
      "Total columns: 18\n",
      "Duplicate rows: 0\n",
      "<class 'pandas.core.frame.DataFrame'>\n",
      "RangeIndex: 15900 entries, 0 to 15899\n",
      "Data columns (total 18 columns):\n",
      " #   Column              Non-Null Count  Dtype  \n",
      "---  ------              --------------  -----  \n",
      " 0   index               15900 non-null  int64  \n",
      " 1   number_of_siblings  15900 non-null  int64  \n",
      " 2   direct_admission    15900 non-null  object \n",
      " 3   CCA                 12071 non-null  object \n",
      " 4   learning_style      15900 non-null  object \n",
      " 5   student_id          15900 non-null  object \n",
      " 6   gender              15900 non-null  object \n",
      " 7   tuition             15900 non-null  object \n",
      " 8   final_test          15405 non-null  float64\n",
      " 9   n_male              15900 non-null  float64\n",
      " 10  n_female            15900 non-null  float64\n",
      " 11  age                 15900 non-null  float64\n",
      " 12  hours_per_week      15900 non-null  float64\n",
      " 13  attendance_rate     15122 non-null  float64\n",
      " 14  sleep_time          15900 non-null  object \n",
      " 15  wake_time           15900 non-null  object \n",
      " 16  mode_of_transport   15900 non-null  object \n",
      " 17  bag_color           15900 non-null  object \n",
      "dtypes: float64(6), int64(2), object(10)\n",
      "memory usage: 2.2+ MB\n",
      "None\n",
      "Numerical columns: Index(['index', 'number_of_siblings', 'final_test', 'n_male', 'n_female',\n",
      "       'age', 'hours_per_week', 'attendance_rate'],\n",
      "      dtype='object')\n",
      "Categorical columns: Index(['direct_admission', 'CCA', 'learning_style', 'student_id', 'gender',\n",
      "       'tuition', 'sleep_time', 'wake_time', 'mode_of_transport', 'bag_color'],\n",
      "      dtype='object')\n",
      "Temporal columns: Index([], dtype='object')\n",
      "Columns with missing data: ['CCA', 'final_test', 'attendance_rate']\n"
     ]
    }
   ],
   "source": [
    "data_quality(df)"
   ]
  },
  {
   "cell_type": "code",
   "execution_count": 5,
   "id": "8e3038df",
   "metadata": {},
   "outputs": [],
   "source": [
    "df = pd.read_csv('data/resale_transactions.csv')"
   ]
  },
  {
   "cell_type": "code",
   "execution_count": 6,
   "id": "7cb8cb0c",
   "metadata": {},
   "outputs": [
    {
     "name": "stdout",
     "output_type": "stream",
     "text": [
      "Warning: 4223 duplicate rows found.\n",
      "Duplicate rows percentage: 4.76%\n",
      "Data Quality Report:\n",
      "Total rows: 88688\n",
      "Total columns: 14\n",
      "Duplicate rows: 4223\n",
      "Warning: 4223 duplicate rows found.\n",
      "Duplicate rows percentage: 4.76%\n",
      "<class 'pandas.core.frame.DataFrame'>\n",
      "RangeIndex: 88688 entries, 0 to 88687\n",
      "Data columns (total 14 columns):\n",
      " #   Column               Non-Null Count  Dtype  \n",
      "---  ------               --------------  -----  \n",
      " 0   id                   88688 non-null  int64  \n",
      " 1   month                88688 non-null  object \n",
      " 2   flat_type            88688 non-null  object \n",
      " 3   block                88688 non-null  object \n",
      " 4   street_name          88688 non-null  object \n",
      " 5   storey_range         88688 non-null  object \n",
      " 6   floor_area_sqm       88688 non-null  float64\n",
      " 7   lease_commence_date  88688 non-null  int64  \n",
      " 8   remaining_lease      88688 non-null  object \n",
      " 9   resale_price         88688 non-null  float64\n",
      " 10  town_id              88688 non-null  int64  \n",
      " 11  flatm_id             88688 non-null  int64  \n",
      " 12  town_name            87905 non-null  object \n",
      " 13  flatm_name           88174 non-null  object \n",
      "dtypes: float64(2), int64(4), object(8)\n",
      "memory usage: 9.5+ MB\n",
      "None\n",
      "Numerical columns: Index(['id', 'floor_area_sqm', 'lease_commence_date', 'resale_price',\n",
      "       'town_id', 'flatm_id'],\n",
      "      dtype='object')\n",
      "Categorical columns: Index(['month', 'flat_type', 'block', 'street_name', 'storey_range',\n",
      "       'remaining_lease', 'town_name', 'flatm_name'],\n",
      "      dtype='object')\n",
      "Temporal columns: Index([], dtype='object')\n",
      "Columns with missing data: ['town_name', 'flatm_name']\n"
     ]
    }
   ],
   "source": [
    "data_quality(df)"
   ]
  }
 ],
 "metadata": {
  "kernelspec": {
   "display_name": "eda",
   "language": "python",
   "name": "python3"
  },
  "language_info": {
   "codemirror_mode": {
    "name": "ipython",
    "version": 3
   },
   "file_extension": ".py",
   "mimetype": "text/x-python",
   "name": "python",
   "nbconvert_exporter": "python",
   "pygments_lexer": "ipython3",
   "version": "3.11.13"
  }
 },
 "nbformat": 4,
 "nbformat_minor": 5
}
